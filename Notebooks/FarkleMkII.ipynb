{
 "cells": [
  {
   "cell_type": "markdown",
   "id": "9ef374bd",
   "metadata": {},
   "source": [
    "Questions I want answered:\n",
    "\n",
    "1. What is the best strategy in each category (score, dice, smart)\n",
    "\n",
    "2. How do they interact?\n",
    "\n",
    "3. Smart is either 50/50 or slightly favors keeping all 50 point dice in initial measurements. Is there a situation(s) where smart is better?\n",
    "\n",
    "4. Can the contribution of randomness be quantified?\n",
    "\n",
    "Other goals:\n",
    "\n",
    "1. Run complete Monte Carlo simulation in a single line in the next code cell.\n",
    "\n",
    "2. Automatically calculate the number of games given a grid size and desired power.\n",
    "\n",
    "3. Nicer visuals than rainbow matplotlib.  Maybe something interactive or can read the csv line by line and animate the runs effectively?"
   ]
  },
  {
   "cell_type": "markdown",
   "id": "44e1d0a9",
   "metadata": {},
   "source": []
  }
 ],
 "metadata": {
  "kernelspec": {
   "display_name": ".venv",
   "language": "python",
   "name": "python3"
  },
  "language_info": {
   "name": "python",
   "version": "3.12.5"
  }
 },
 "nbformat": 4,
 "nbformat_minor": 5
}
