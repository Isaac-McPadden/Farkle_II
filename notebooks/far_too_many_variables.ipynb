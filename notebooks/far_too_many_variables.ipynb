{
 "cells": [
  {
   "cell_type": "code",
   "execution_count": null,
   "id": "de3b2db3",
   "metadata": {},
   "outputs": [],
   "source": [
    "import logging\n",
    "import pickle\n",
    "import time\n",
    "from collections import Counter\n",
    "from concurrent.futures import ProcessPoolExecutor, as_completed\n",
    "from pathlib import Path\n",
    "from typing import Sequence\n",
    "\n",
    "import numpy as np\n",
    "from numpy.typing import NDArray\n",
    "\n",
    "from farkle.simulation import (\n",
    "    _play_game,\n",
    "    generate_strategy_grid,  # <- replace with your real loader\n",
    ")\n",
    "from farkle.strategies import ThresholdStrategy\n",
    "\n",
    "# ── Configuration constants ──────────────────────────────────────────────────\n",
    "GAMES_PER_STRAT = 10_223\n",
    "DESIRED_SEC_PER_CHUNK = 10\n",
    "\n",
    "# ── Throughput estimation ────────────────────────────────────────────────────\n",
    "def measure_throughput(\n",
    "    strategies: Sequence[ThresholdStrategy],\n",
    "    test_games: int = 2000,\n",
    "    seed: int = 0\n",
    ") -> float:\n",
    "    \"\"\"\n",
    "    Simulate a small batch to estimate games/sec.\n",
    "    \"\"\"\n",
    "    rng = np.random.default_rng(seed)\n",
    "    seeds = rng.integers(0, 2**32 - 1, size=test_games)\n",
    "    t0 = time.perf_counter()\n",
    "    for s in seeds:\n",
    "        _play_game(s, strategies)\n",
    "    dt = time.perf_counter() - t0\n",
    "    print(test_games / dt)\n",
    "    return test_games / dt\n",
    "\n",
    "def compute_chunk_size(\n",
    "    strategies: Sequence[ThresholdStrategy],\n",
    "    desired_sec: int = DESIRED_SEC_PER_CHUNK,\n",
    "    min_chunk: int = 1000,\n",
    "    max_chunk: int = 50000\n",
    ") -> int:\n",
    "    \"\"\"\n",
    "    Choose a chunk size so each batch takes about `desired_sec` seconds,\n",
    "    clamped between min_chunk and max_chunk.\n",
    "    \"\"\"\n",
    "    gps = measure_throughput(strategies)\n",
    "    chunk = int(desired_sec * gps)\n",
    "    print(max(min_chunk, min(chunk, max_chunk)))\n",
    "    return max(min_chunk, min(chunk, max_chunk))\n",
    "\n",
    "# ── Core simulation ──────────────────────────────────────────────────────────\n",
    "\n",
    "def simulate_chunk(\n",
    "    seeds: NDArray[np.int64],\n",
    "    strategies: Sequence[ThresholdStrategy]\n",
    ") -> Counter[str]:\n",
    "    ctr: Counter[str] = Counter()\n",
    "    for s in seeds.tolist():           # convert to Python int\n",
    "        result = _play_game(int(s), strategies)\n",
    "        ctr[result[\"winner\"]] += 1\n",
    "    return ctr\n",
    "\n",
    "# ── Main entry point ─────────────────────────────────────────────────────────\n",
    "def run_tournament(\n",
    "    global_seed: int,\n",
    "    checkpoint_path: str,\n",
    "    n_jobs: int | None = None\n",
    ") -> None:\n",
    "    \"\"\"\n",
    "    1) Load strategies\n",
    "    2) Auto-tune a chunk size\n",
    "    3) Spawn workers to run all games in parallel, checkpointing every 10 chunks\n",
    "    4) Load or finalize the win counter\n",
    "    \"\"\"\n",
    "    # 1) load your strategies however you like\n",
    "    strategies, metadata_df = generate_strategy_grid()   # e.g. load from YAML or generate_strategy_grid()\n",
    "    n_strats = len(strategies)\n",
    "    total_games = n_strats * GAMES_PER_STRAT\n",
    "\n",
    "    # 2) figure out how big each chunk should be\n",
    "    chunk_size = compute_chunk_size(strategies)\n",
    "\n",
    "    # 3) prepare all the RNG seeds, split into chunks\n",
    "    master_rng = np.random.default_rng(global_seed)\n",
    "    all_seeds = master_rng.integers(0, 2**32 - 1, size=total_games)\n",
    "    seed_chunks = [\n",
    "        all_seeds[i : i + chunk_size]\n",
    "        for i in range(0, total_games, chunk_size)\n",
    "    ]\n",
    "\n",
    "    # 4) set up logging & run\n",
    "    logging.basicConfig(level=logging.INFO, format=\"%(asctime)s %(message)s\")\n",
    "    win_counter: Counter[str] = Counter()\n",
    "\n",
    "    with ProcessPoolExecutor(max_workers=n_jobs) as exe:\n",
    "        futures = {\n",
    "            exe.submit(simulate_chunk, chunk, strategies): idx\n",
    "            for idx, chunk in enumerate(seed_chunks)\n",
    "        }\n",
    "        for fut in as_completed(futures):\n",
    "            idx = futures[fut]\n",
    "            chunk_result = fut.result()\n",
    "            win_counter.update(chunk_result)\n",
    "            logging.info(\n",
    "                f\"Chunk {idx+1}/{len(seed_chunks)} done; \"\n",
    "                f\"total wins={sum(win_counter.values())}\"\n",
    "            )\n",
    "\n",
    "            # checkpoint every 10 chunks\n",
    "            if (idx + 1) % 10 == 0:\n",
    "                with open(checkpoint_path, \"wb\") as f:\n",
    "                    pickle.dump(win_counter, f)\n",
    "\n",
    "    # 5) final load or fallback\n",
    "    chk = Path(checkpoint_path)\n",
    "    if chk.exists():\n",
    "        with chk.open(\"rb\") as f:\n",
    "            final_counter = pickle.load(f)\n",
    "    else:\n",
    "        final_counter = win_counter\n",
    "\n",
    "    logging.info(f\"Final win counts: {final_counter}\")\n",
    "    \n",
    "    \n",
    "def main(global_seed=0, checkpoint_path=\"checkpoint.pkl\", n_jobs=16):\n",
    "    global_seed = global_seed\n",
    "    checkpoint_path=checkpoint_path\n",
    "    n_jobs=n_jobs\n",
    "    run_tournament(global_seed=0, checkpoint_path=\"checkpoint.pkl\", n_jobs=16)\n",
    "\n",
    "# ── Script guard ─────────────────────────────────────────────────────────────\n",
    "if __name__ == \"__main__\":\n",
    "    # Replace these with real arguments or argparse as you prefer\n",
    "    main(global_seed=0, checkpoint_path=\"checkpoint.pkl\", n_jobs=16)\n"
   ]
  },
  {
   "cell_type": "code",
   "execution_count": null,
   "id": "ef08fad5",
   "metadata": {},
   "outputs": [
    {
     "name": "stdout",
     "output_type": "stream",
     "text": [
      "25.00695\n"
     ]
    }
   ],
   "source": [
    "# Expected value of a single die roll is 25, of a turn is 150 (with no combos)\n",
    "\n",
    "import numpy as np\n",
    "rng_generator = np.random.default_rng()\n",
    "rolls = []\n",
    "for _ in range(1_000_000):\n",
    "    roll = rng_generator.integers(1, 7, size=1)\n",
    "    if roll == 5:\n",
    "        rolls.append(50)\n",
    "    elif roll == 1:\n",
    "        rolls.append(100)\n",
    "    else:\n",
    "        rolls.append(0)\n",
    "print(sum(rolls)/len(rolls))"
   ]
  },
  {
   "cell_type": "code",
   "execution_count": 5,
   "id": "0097854a",
   "metadata": {},
   "outputs": [
    {
     "name": "stdout",
     "output_type": "stream",
     "text": [
      "✅  Loaded checkpoint with 16,683,936 completed games.\n",
      "🏅  7597 strategies have ≥1 win.\n",
      "\n"
     ]
    },
    {
     "data": {
      "application/vnd.microsoft.datawrangler.viewer.v0+json": {
       "columns": [
        {
         "name": "index",
         "rawType": "int64",
         "type": "integer"
        },
        {
         "name": "strategy",
         "rawType": "object",
         "type": "string"
        },
        {
         "name": "wins",
         "rawType": "int64",
         "type": "integer"
        }
       ],
       "ref": "97e6c036-2370-4840-9dc6-540fb73ed8ac",
       "rows": [
        [
         "0",
         "Strat(900,3)[SD][FOPD][OR][HR]",
         "4167"
        ],
        [
         "1",
         "Strat(300,4)[SD][FOPD][AND][-R]",
         "4135"
        ],
        [
         "2",
         "Strat(300,4)[SD][FOPD][AND][H-]",
         "4134"
        ],
        [
         "3",
         "Strat(250,4)[SD][FOPD][AND][HR]",
         "4108"
        ],
        [
         "4",
         "Strat(850,3)[SD][FOPD][OR][H-]",
         "4107"
        ],
        [
         "5",
         "Strat(800,3)[SD][FOPD][OR][HR]",
         "4082"
        ],
        [
         "6",
         "Strat(250,4)[SD][FOPD][AND][-R]",
         "4077"
        ],
        [
         "7",
         "Strat(800,3)[SD][FOPD][OR][H-]",
         "4070"
        ],
        [
         "8",
         "Strat(700,3)[SD][FOPD][OR][HR]",
         "4069"
        ],
        [
         "9",
         "Strat(300,4)[SD][FOPD][AND][--]",
         "4066"
        ],
        [
         "10",
         "Strat(1000,3)[SD][FOPD][OR][HR]",
         "4050"
        ],
        [
         "11",
         "Strat(650,3)[SD][FOPD][OR][HR]",
         "4043"
        ],
        [
         "12",
         "Strat(1000,3)[SD][FOPD][OR][H-]",
         "4041"
        ],
        [
         "13",
         "Strat(300,4)[SD][F-PD][AND][HR]",
         "4041"
        ],
        [
         "14",
         "Strat(250,4)[SD][FOPD][AND][H-]",
         "4039"
        ],
        [
         "15",
         "Strat(350,4)[SD][F-PD][AND][-R]",
         "4038"
        ],
        [
         "16",
         "Strat(250,4)[SD][FOPD][AND][--]",
         "4033"
        ],
        [
         "17",
         "Strat(250,2)[SD][FOPD][OR][H-]",
         "4033"
        ],
        [
         "18",
         "Strat(750,3)[SD][FOPD][OR][HR]",
         "4026"
        ],
        [
         "19",
         "Strat(300,3)[SD][FOPD][OR][H-]",
         "4020"
        ],
        [
         "20",
         "Strat(900,3)[SD][FOPD][OR][H-]",
         "4018"
        ],
        [
         "21",
         "Strat(550,3)[SD][FOPD][OR][H-]",
         "4016"
        ],
        [
         "22",
         "Strat(300,3)[-D][FOPD][OR][HR]",
         "4014"
        ],
        [
         "23",
         "Strat(250,3)[SD][FOPD][OR][H-]",
         "4004"
        ],
        [
         "24",
         "Strat(500,3)[-D][FOPD][OR][H-]",
         "4002"
        ],
        [
         "25",
         "Strat(950,3)[SD][FOPD][OR][HR]",
         "3999"
        ],
        [
         "26",
         "Strat(350,3)[SD][FOPD][OR][HR]",
         "3999"
        ],
        [
         "27",
         "Strat(950,3)[SD][FOPD][OR][H-]",
         "3994"
        ],
        [
         "28",
         "Strat(700,3)[SD][FOPD][OR][H-]",
         "3994"
        ],
        [
         "29",
         "Strat(300,2)[SD][FOPD][OR][H-]",
         "3992"
        ],
        [
         "30",
         "Strat(450,3)[SD][FOPD][OR][H-]",
         "3991"
        ],
        [
         "31",
         "Strat(450,3)[SD][FOPD][OR][HR]",
         "3988"
        ],
        [
         "32",
         "Strat(400,2)[SD][F-PD][OR][HR]",
         "3986"
        ],
        [
         "33",
         "Strat(750,3)[SD][FOPD][OR][H-]",
         "3986"
        ],
        [
         "34",
         "Strat(200,3)[-D][FOPD][OR][H-]",
         "3985"
        ],
        [
         "35",
         "Strat(350,4)[SD][FOPD][AND][HR]",
         "3976"
        ],
        [
         "36",
         "Strat(300,1)[SD][FOPD][OR][HR]",
         "3975"
        ],
        [
         "37",
         "Strat(350,4)[SD][F-PD][AND][H-]",
         "3972"
        ],
        [
         "38",
         "Strat(500,3)[-D][FOPD][OR][HR]",
         "3969"
        ],
        [
         "39",
         "Strat(350,4)[SD][F-PD][AND][--]",
         "3968"
        ],
        [
         "40",
         "Strat(550,3)[SD][FOPD][OR][HR]",
         "3967"
        ],
        [
         "41",
         "Strat(500,3)[SD][FOPD][OR][H-]",
         "3965"
        ],
        [
         "42",
         "Strat(650,3)[SD][FOPD][OR][H-]",
         "3964"
        ],
        [
         "43",
         "Strat(600,3)[SD][FOPD][OR][H-]",
         "3964"
        ],
        [
         "44",
         "Strat(300,4)[SD][FOPD][AND][HR]",
         "3963"
        ],
        [
         "45",
         "Strat(250,2)[SD][FOPD][OR][HR]",
         "3963"
        ],
        [
         "46",
         "Strat(450,3)[-D][FOPD][OR][-R]",
         "3962"
        ],
        [
         "47",
         "Strat(400,3)[SD][FOPD][OR][HR]",
         "3962"
        ],
        [
         "48",
         "Strat(500,3)[SD][FOPD][OR][HR]",
         "3961"
        ],
        [
         "49",
         "Strat(700,3)[-D][FOPD][OR][--]",
         "3956"
        ]
       ],
       "shape": {
        "columns": 2,
        "rows": 7597
       }
      },
      "text/html": [
       "<div>\n",
       "<style scoped>\n",
       "    .dataframe tbody tr th:only-of-type {\n",
       "        vertical-align: middle;\n",
       "    }\n",
       "\n",
       "    .dataframe tbody tr th {\n",
       "        vertical-align: top;\n",
       "    }\n",
       "\n",
       "    .dataframe thead th {\n",
       "        text-align: right;\n",
       "    }\n",
       "</style>\n",
       "<table border=\"1\" class=\"dataframe\">\n",
       "  <thead>\n",
       "    <tr style=\"text-align: right;\">\n",
       "      <th></th>\n",
       "      <th>strategy</th>\n",
       "      <th>wins</th>\n",
       "    </tr>\n",
       "  </thead>\n",
       "  <tbody>\n",
       "    <tr>\n",
       "      <th>0</th>\n",
       "      <td>Strat(900,3)[SD][FOPD][OR][HR]</td>\n",
       "      <td>4167</td>\n",
       "    </tr>\n",
       "    <tr>\n",
       "      <th>1</th>\n",
       "      <td>Strat(300,4)[SD][FOPD][AND][-R]</td>\n",
       "      <td>4135</td>\n",
       "    </tr>\n",
       "    <tr>\n",
       "      <th>2</th>\n",
       "      <td>Strat(300,4)[SD][FOPD][AND][H-]</td>\n",
       "      <td>4134</td>\n",
       "    </tr>\n",
       "    <tr>\n",
       "      <th>3</th>\n",
       "      <td>Strat(250,4)[SD][FOPD][AND][HR]</td>\n",
       "      <td>4108</td>\n",
       "    </tr>\n",
       "    <tr>\n",
       "      <th>4</th>\n",
       "      <td>Strat(850,3)[SD][FOPD][OR][H-]</td>\n",
       "      <td>4107</td>\n",
       "    </tr>\n",
       "    <tr>\n",
       "      <th>...</th>\n",
       "      <td>...</td>\n",
       "      <td>...</td>\n",
       "    </tr>\n",
       "    <tr>\n",
       "      <th>7592</th>\n",
       "      <td>Strat(700,0)[-D][--PD][OR][H-]</td>\n",
       "      <td>1</td>\n",
       "    </tr>\n",
       "    <tr>\n",
       "      <th>7593</th>\n",
       "      <td>Strat(550,0)[SD][F-PD][AND][-R]</td>\n",
       "      <td>1</td>\n",
       "    </tr>\n",
       "    <tr>\n",
       "      <th>7594</th>\n",
       "      <td>Strat(800,0)[SD][F-PD][AND][-R]</td>\n",
       "      <td>1</td>\n",
       "    </tr>\n",
       "    <tr>\n",
       "      <th>7595</th>\n",
       "      <td>Strat(850,0)[SD][FOPD][AND][H-]</td>\n",
       "      <td>1</td>\n",
       "    </tr>\n",
       "    <tr>\n",
       "      <th>7596</th>\n",
       "      <td>Strat(900,0)[SD][F-PS][AND][-R]</td>\n",
       "      <td>1</td>\n",
       "    </tr>\n",
       "  </tbody>\n",
       "</table>\n",
       "<p>7597 rows × 2 columns</p>\n",
       "</div>"
      ],
      "text/plain": [
       "                             strategy  wins\n",
       "0      Strat(900,3)[SD][FOPD][OR][HR]  4167\n",
       "1     Strat(300,4)[SD][FOPD][AND][-R]  4135\n",
       "2     Strat(300,4)[SD][FOPD][AND][H-]  4134\n",
       "3     Strat(250,4)[SD][FOPD][AND][HR]  4108\n",
       "4      Strat(850,3)[SD][FOPD][OR][H-]  4107\n",
       "...                               ...   ...\n",
       "7592   Strat(700,0)[-D][--PD][OR][H-]     1\n",
       "7593  Strat(550,0)[SD][F-PD][AND][-R]     1\n",
       "7594  Strat(800,0)[SD][F-PD][AND][-R]     1\n",
       "7595  Strat(850,0)[SD][FOPD][AND][H-]     1\n",
       "7596  Strat(900,0)[SD][F-PS][AND][-R]     1\n",
       "\n",
       "[7597 rows x 2 columns]"
      ]
     },
     "metadata": {},
     "output_type": "display_data"
    }
   ],
   "source": [
    "import pickle\n",
    "from pathlib import Path\n",
    "from collections import Counter\n",
    "import pandas as pd\n",
    "\n",
    "# ── 1.  Load the pickle ──────────────────────────────────────────────────────\n",
    "ckpt_path = Path(\"../checkpoint.pkl\")          # ← change if needed\n",
    "with ckpt_path.open(\"rb\") as fh:\n",
    "    win_totals: Counter = pickle.load(fh)\n",
    "\n",
    "# ── 2.  Basic sanity checks ──────────────────────────────────────────────────\n",
    "n_games   = sum(win_totals.values())\n",
    "n_strats  = len(win_totals)\n",
    "\n",
    "print(f\"✅  Loaded checkpoint with {n_games:,} completed games.\")\n",
    "print(f\"🏅  {n_strats} strategies have ≥1 win.\\n\")\n",
    "\n",
    "# ── 3.  Top-10 leaderboard ───────────────────────────────────────────────────\n",
    "df = (pd.Series(win_totals)\n",
    "        .sort_values(ascending=False)\n",
    "        # .head(10)\n",
    "        .rename_axis(\"strategy\")\n",
    "        .reset_index(name=\"wins\"))\n",
    "\n",
    "display(df)            # In notebooks this renders a neat table\n"
   ]
  },
  {
   "cell_type": "code",
   "execution_count": 7,
   "id": "c3da8681",
   "metadata": {},
   "outputs": [
    {
     "data": {
      "application/vnd.microsoft.datawrangler.viewer.v0+json": {
       "columns": [
        {
         "name": "index",
         "rawType": "int64",
         "type": "integer"
        },
        {
         "name": "strategy",
         "rawType": "object",
         "type": "string"
        },
        {
         "name": "wins",
         "rawType": "int64",
         "type": "integer"
        }
       ],
       "ref": "b9c7c28a-8168-468f-a2b1-582dd902c9d1",
       "rows": [
        [
         "0",
         "Strat(900,3)[SD][FOPD][OR][HR]",
         "4167"
        ],
        [
         "1",
         "Strat(300,4)[SD][FOPD][AND][-R]",
         "4135"
        ],
        [
         "2",
         "Strat(300,4)[SD][FOPD][AND][H-]",
         "4134"
        ],
        [
         "3",
         "Strat(250,4)[SD][FOPD][AND][HR]",
         "4108"
        ],
        [
         "4",
         "Strat(850,3)[SD][FOPD][OR][H-]",
         "4107"
        ],
        [
         "5",
         "Strat(800,3)[SD][FOPD][OR][HR]",
         "4082"
        ],
        [
         "6",
         "Strat(250,4)[SD][FOPD][AND][-R]",
         "4077"
        ],
        [
         "7",
         "Strat(800,3)[SD][FOPD][OR][H-]",
         "4070"
        ],
        [
         "8",
         "Strat(700,3)[SD][FOPD][OR][HR]",
         "4069"
        ],
        [
         "9",
         "Strat(300,4)[SD][FOPD][AND][--]",
         "4066"
        ],
        [
         "10",
         "Strat(1000,3)[SD][FOPD][OR][HR]",
         "4050"
        ],
        [
         "11",
         "Strat(650,3)[SD][FOPD][OR][HR]",
         "4043"
        ],
        [
         "12",
         "Strat(1000,3)[SD][FOPD][OR][H-]",
         "4041"
        ],
        [
         "13",
         "Strat(300,4)[SD][F-PD][AND][HR]",
         "4041"
        ],
        [
         "14",
         "Strat(250,4)[SD][FOPD][AND][H-]",
         "4039"
        ],
        [
         "15",
         "Strat(350,4)[SD][F-PD][AND][-R]",
         "4038"
        ],
        [
         "16",
         "Strat(250,4)[SD][FOPD][AND][--]",
         "4033"
        ],
        [
         "17",
         "Strat(250,2)[SD][FOPD][OR][H-]",
         "4033"
        ],
        [
         "18",
         "Strat(750,3)[SD][FOPD][OR][HR]",
         "4026"
        ],
        [
         "19",
         "Strat(300,3)[SD][FOPD][OR][H-]",
         "4020"
        ],
        [
         "20",
         "Strat(900,3)[SD][FOPD][OR][H-]",
         "4018"
        ],
        [
         "21",
         "Strat(550,3)[SD][FOPD][OR][H-]",
         "4016"
        ],
        [
         "22",
         "Strat(300,3)[-D][FOPD][OR][HR]",
         "4014"
        ],
        [
         "23",
         "Strat(250,3)[SD][FOPD][OR][H-]",
         "4004"
        ],
        [
         "24",
         "Strat(500,3)[-D][FOPD][OR][H-]",
         "4002"
        ],
        [
         "25",
         "Strat(950,3)[SD][FOPD][OR][HR]",
         "3999"
        ],
        [
         "26",
         "Strat(350,3)[SD][FOPD][OR][HR]",
         "3999"
        ],
        [
         "27",
         "Strat(950,3)[SD][FOPD][OR][H-]",
         "3994"
        ],
        [
         "28",
         "Strat(700,3)[SD][FOPD][OR][H-]",
         "3994"
        ],
        [
         "29",
         "Strat(300,2)[SD][FOPD][OR][H-]",
         "3992"
        ],
        [
         "30",
         "Strat(450,3)[SD][FOPD][OR][H-]",
         "3991"
        ],
        [
         "31",
         "Strat(450,3)[SD][FOPD][OR][HR]",
         "3988"
        ],
        [
         "32",
         "Strat(400,2)[SD][F-PD][OR][HR]",
         "3986"
        ],
        [
         "33",
         "Strat(750,3)[SD][FOPD][OR][H-]",
         "3986"
        ],
        [
         "34",
         "Strat(200,3)[-D][FOPD][OR][H-]",
         "3985"
        ],
        [
         "35",
         "Strat(350,4)[SD][FOPD][AND][HR]",
         "3976"
        ],
        [
         "36",
         "Strat(300,1)[SD][FOPD][OR][HR]",
         "3975"
        ],
        [
         "37",
         "Strat(350,4)[SD][F-PD][AND][H-]",
         "3972"
        ],
        [
         "38",
         "Strat(500,3)[-D][FOPD][OR][HR]",
         "3969"
        ],
        [
         "39",
         "Strat(350,4)[SD][F-PD][AND][--]",
         "3968"
        ],
        [
         "40",
         "Strat(550,3)[SD][FOPD][OR][HR]",
         "3967"
        ],
        [
         "41",
         "Strat(500,3)[SD][FOPD][OR][H-]",
         "3965"
        ],
        [
         "42",
         "Strat(650,3)[SD][FOPD][OR][H-]",
         "3964"
        ],
        [
         "43",
         "Strat(600,3)[SD][FOPD][OR][H-]",
         "3964"
        ],
        [
         "44",
         "Strat(300,4)[SD][FOPD][AND][HR]",
         "3963"
        ],
        [
         "45",
         "Strat(250,2)[SD][FOPD][OR][HR]",
         "3963"
        ],
        [
         "46",
         "Strat(450,3)[-D][FOPD][OR][-R]",
         "3962"
        ],
        [
         "47",
         "Strat(400,3)[SD][FOPD][OR][HR]",
         "3962"
        ],
        [
         "48",
         "Strat(500,3)[SD][FOPD][OR][HR]",
         "3961"
        ],
        [
         "49",
         "Strat(700,3)[-D][FOPD][OR][--]",
         "3956"
        ]
       ],
       "shape": {
        "columns": 2,
        "rows": 50
       }
      },
      "text/html": [
       "<div>\n",
       "<style scoped>\n",
       "    .dataframe tbody tr th:only-of-type {\n",
       "        vertical-align: middle;\n",
       "    }\n",
       "\n",
       "    .dataframe tbody tr th {\n",
       "        vertical-align: top;\n",
       "    }\n",
       "\n",
       "    .dataframe thead th {\n",
       "        text-align: right;\n",
       "    }\n",
       "</style>\n",
       "<table border=\"1\" class=\"dataframe\">\n",
       "  <thead>\n",
       "    <tr style=\"text-align: right;\">\n",
       "      <th></th>\n",
       "      <th>strategy</th>\n",
       "      <th>wins</th>\n",
       "    </tr>\n",
       "  </thead>\n",
       "  <tbody>\n",
       "    <tr>\n",
       "      <th>0</th>\n",
       "      <td>Strat(900,3)[SD][FOPD][OR][HR]</td>\n",
       "      <td>4167</td>\n",
       "    </tr>\n",
       "    <tr>\n",
       "      <th>1</th>\n",
       "      <td>Strat(300,4)[SD][FOPD][AND][-R]</td>\n",
       "      <td>4135</td>\n",
       "    </tr>\n",
       "    <tr>\n",
       "      <th>2</th>\n",
       "      <td>Strat(300,4)[SD][FOPD][AND][H-]</td>\n",
       "      <td>4134</td>\n",
       "    </tr>\n",
       "    <tr>\n",
       "      <th>3</th>\n",
       "      <td>Strat(250,4)[SD][FOPD][AND][HR]</td>\n",
       "      <td>4108</td>\n",
       "    </tr>\n",
       "    <tr>\n",
       "      <th>4</th>\n",
       "      <td>Strat(850,3)[SD][FOPD][OR][H-]</td>\n",
       "      <td>4107</td>\n",
       "    </tr>\n",
       "    <tr>\n",
       "      <th>5</th>\n",
       "      <td>Strat(800,3)[SD][FOPD][OR][HR]</td>\n",
       "      <td>4082</td>\n",
       "    </tr>\n",
       "    <tr>\n",
       "      <th>6</th>\n",
       "      <td>Strat(250,4)[SD][FOPD][AND][-R]</td>\n",
       "      <td>4077</td>\n",
       "    </tr>\n",
       "    <tr>\n",
       "      <th>7</th>\n",
       "      <td>Strat(800,3)[SD][FOPD][OR][H-]</td>\n",
       "      <td>4070</td>\n",
       "    </tr>\n",
       "    <tr>\n",
       "      <th>8</th>\n",
       "      <td>Strat(700,3)[SD][FOPD][OR][HR]</td>\n",
       "      <td>4069</td>\n",
       "    </tr>\n",
       "    <tr>\n",
       "      <th>9</th>\n",
       "      <td>Strat(300,4)[SD][FOPD][AND][--]</td>\n",
       "      <td>4066</td>\n",
       "    </tr>\n",
       "    <tr>\n",
       "      <th>10</th>\n",
       "      <td>Strat(1000,3)[SD][FOPD][OR][HR]</td>\n",
       "      <td>4050</td>\n",
       "    </tr>\n",
       "    <tr>\n",
       "      <th>11</th>\n",
       "      <td>Strat(650,3)[SD][FOPD][OR][HR]</td>\n",
       "      <td>4043</td>\n",
       "    </tr>\n",
       "    <tr>\n",
       "      <th>12</th>\n",
       "      <td>Strat(1000,3)[SD][FOPD][OR][H-]</td>\n",
       "      <td>4041</td>\n",
       "    </tr>\n",
       "    <tr>\n",
       "      <th>13</th>\n",
       "      <td>Strat(300,4)[SD][F-PD][AND][HR]</td>\n",
       "      <td>4041</td>\n",
       "    </tr>\n",
       "    <tr>\n",
       "      <th>14</th>\n",
       "      <td>Strat(250,4)[SD][FOPD][AND][H-]</td>\n",
       "      <td>4039</td>\n",
       "    </tr>\n",
       "    <tr>\n",
       "      <th>15</th>\n",
       "      <td>Strat(350,4)[SD][F-PD][AND][-R]</td>\n",
       "      <td>4038</td>\n",
       "    </tr>\n",
       "    <tr>\n",
       "      <th>16</th>\n",
       "      <td>Strat(250,4)[SD][FOPD][AND][--]</td>\n",
       "      <td>4033</td>\n",
       "    </tr>\n",
       "    <tr>\n",
       "      <th>17</th>\n",
       "      <td>Strat(250,2)[SD][FOPD][OR][H-]</td>\n",
       "      <td>4033</td>\n",
       "    </tr>\n",
       "    <tr>\n",
       "      <th>18</th>\n",
       "      <td>Strat(750,3)[SD][FOPD][OR][HR]</td>\n",
       "      <td>4026</td>\n",
       "    </tr>\n",
       "    <tr>\n",
       "      <th>19</th>\n",
       "      <td>Strat(300,3)[SD][FOPD][OR][H-]</td>\n",
       "      <td>4020</td>\n",
       "    </tr>\n",
       "    <tr>\n",
       "      <th>20</th>\n",
       "      <td>Strat(900,3)[SD][FOPD][OR][H-]</td>\n",
       "      <td>4018</td>\n",
       "    </tr>\n",
       "    <tr>\n",
       "      <th>21</th>\n",
       "      <td>Strat(550,3)[SD][FOPD][OR][H-]</td>\n",
       "      <td>4016</td>\n",
       "    </tr>\n",
       "    <tr>\n",
       "      <th>22</th>\n",
       "      <td>Strat(300,3)[-D][FOPD][OR][HR]</td>\n",
       "      <td>4014</td>\n",
       "    </tr>\n",
       "    <tr>\n",
       "      <th>23</th>\n",
       "      <td>Strat(250,3)[SD][FOPD][OR][H-]</td>\n",
       "      <td>4004</td>\n",
       "    </tr>\n",
       "    <tr>\n",
       "      <th>24</th>\n",
       "      <td>Strat(500,3)[-D][FOPD][OR][H-]</td>\n",
       "      <td>4002</td>\n",
       "    </tr>\n",
       "    <tr>\n",
       "      <th>25</th>\n",
       "      <td>Strat(950,3)[SD][FOPD][OR][HR]</td>\n",
       "      <td>3999</td>\n",
       "    </tr>\n",
       "    <tr>\n",
       "      <th>26</th>\n",
       "      <td>Strat(350,3)[SD][FOPD][OR][HR]</td>\n",
       "      <td>3999</td>\n",
       "    </tr>\n",
       "    <tr>\n",
       "      <th>27</th>\n",
       "      <td>Strat(950,3)[SD][FOPD][OR][H-]</td>\n",
       "      <td>3994</td>\n",
       "    </tr>\n",
       "    <tr>\n",
       "      <th>28</th>\n",
       "      <td>Strat(700,3)[SD][FOPD][OR][H-]</td>\n",
       "      <td>3994</td>\n",
       "    </tr>\n",
       "    <tr>\n",
       "      <th>29</th>\n",
       "      <td>Strat(300,2)[SD][FOPD][OR][H-]</td>\n",
       "      <td>3992</td>\n",
       "    </tr>\n",
       "    <tr>\n",
       "      <th>30</th>\n",
       "      <td>Strat(450,3)[SD][FOPD][OR][H-]</td>\n",
       "      <td>3991</td>\n",
       "    </tr>\n",
       "    <tr>\n",
       "      <th>31</th>\n",
       "      <td>Strat(450,3)[SD][FOPD][OR][HR]</td>\n",
       "      <td>3988</td>\n",
       "    </tr>\n",
       "    <tr>\n",
       "      <th>32</th>\n",
       "      <td>Strat(400,2)[SD][F-PD][OR][HR]</td>\n",
       "      <td>3986</td>\n",
       "    </tr>\n",
       "    <tr>\n",
       "      <th>33</th>\n",
       "      <td>Strat(750,3)[SD][FOPD][OR][H-]</td>\n",
       "      <td>3986</td>\n",
       "    </tr>\n",
       "    <tr>\n",
       "      <th>34</th>\n",
       "      <td>Strat(200,3)[-D][FOPD][OR][H-]</td>\n",
       "      <td>3985</td>\n",
       "    </tr>\n",
       "    <tr>\n",
       "      <th>35</th>\n",
       "      <td>Strat(350,4)[SD][FOPD][AND][HR]</td>\n",
       "      <td>3976</td>\n",
       "    </tr>\n",
       "    <tr>\n",
       "      <th>36</th>\n",
       "      <td>Strat(300,1)[SD][FOPD][OR][HR]</td>\n",
       "      <td>3975</td>\n",
       "    </tr>\n",
       "    <tr>\n",
       "      <th>37</th>\n",
       "      <td>Strat(350,4)[SD][F-PD][AND][H-]</td>\n",
       "      <td>3972</td>\n",
       "    </tr>\n",
       "    <tr>\n",
       "      <th>38</th>\n",
       "      <td>Strat(500,3)[-D][FOPD][OR][HR]</td>\n",
       "      <td>3969</td>\n",
       "    </tr>\n",
       "    <tr>\n",
       "      <th>39</th>\n",
       "      <td>Strat(350,4)[SD][F-PD][AND][--]</td>\n",
       "      <td>3968</td>\n",
       "    </tr>\n",
       "    <tr>\n",
       "      <th>40</th>\n",
       "      <td>Strat(550,3)[SD][FOPD][OR][HR]</td>\n",
       "      <td>3967</td>\n",
       "    </tr>\n",
       "    <tr>\n",
       "      <th>41</th>\n",
       "      <td>Strat(500,3)[SD][FOPD][OR][H-]</td>\n",
       "      <td>3965</td>\n",
       "    </tr>\n",
       "    <tr>\n",
       "      <th>42</th>\n",
       "      <td>Strat(650,3)[SD][FOPD][OR][H-]</td>\n",
       "      <td>3964</td>\n",
       "    </tr>\n",
       "    <tr>\n",
       "      <th>43</th>\n",
       "      <td>Strat(600,3)[SD][FOPD][OR][H-]</td>\n",
       "      <td>3964</td>\n",
       "    </tr>\n",
       "    <tr>\n",
       "      <th>44</th>\n",
       "      <td>Strat(300,4)[SD][FOPD][AND][HR]</td>\n",
       "      <td>3963</td>\n",
       "    </tr>\n",
       "    <tr>\n",
       "      <th>45</th>\n",
       "      <td>Strat(250,2)[SD][FOPD][OR][HR]</td>\n",
       "      <td>3963</td>\n",
       "    </tr>\n",
       "    <tr>\n",
       "      <th>46</th>\n",
       "      <td>Strat(450,3)[-D][FOPD][OR][-R]</td>\n",
       "      <td>3962</td>\n",
       "    </tr>\n",
       "    <tr>\n",
       "      <th>47</th>\n",
       "      <td>Strat(400,3)[SD][FOPD][OR][HR]</td>\n",
       "      <td>3962</td>\n",
       "    </tr>\n",
       "    <tr>\n",
       "      <th>48</th>\n",
       "      <td>Strat(500,3)[SD][FOPD][OR][HR]</td>\n",
       "      <td>3961</td>\n",
       "    </tr>\n",
       "    <tr>\n",
       "      <th>49</th>\n",
       "      <td>Strat(700,3)[-D][FOPD][OR][--]</td>\n",
       "      <td>3956</td>\n",
       "    </tr>\n",
       "  </tbody>\n",
       "</table>\n",
       "</div>"
      ],
      "text/plain": [
       "                           strategy  wins\n",
       "0    Strat(900,3)[SD][FOPD][OR][HR]  4167\n",
       "1   Strat(300,4)[SD][FOPD][AND][-R]  4135\n",
       "2   Strat(300,4)[SD][FOPD][AND][H-]  4134\n",
       "3   Strat(250,4)[SD][FOPD][AND][HR]  4108\n",
       "4    Strat(850,3)[SD][FOPD][OR][H-]  4107\n",
       "5    Strat(800,3)[SD][FOPD][OR][HR]  4082\n",
       "6   Strat(250,4)[SD][FOPD][AND][-R]  4077\n",
       "7    Strat(800,3)[SD][FOPD][OR][H-]  4070\n",
       "8    Strat(700,3)[SD][FOPD][OR][HR]  4069\n",
       "9   Strat(300,4)[SD][FOPD][AND][--]  4066\n",
       "10  Strat(1000,3)[SD][FOPD][OR][HR]  4050\n",
       "11   Strat(650,3)[SD][FOPD][OR][HR]  4043\n",
       "12  Strat(1000,3)[SD][FOPD][OR][H-]  4041\n",
       "13  Strat(300,4)[SD][F-PD][AND][HR]  4041\n",
       "14  Strat(250,4)[SD][FOPD][AND][H-]  4039\n",
       "15  Strat(350,4)[SD][F-PD][AND][-R]  4038\n",
       "16  Strat(250,4)[SD][FOPD][AND][--]  4033\n",
       "17   Strat(250,2)[SD][FOPD][OR][H-]  4033\n",
       "18   Strat(750,3)[SD][FOPD][OR][HR]  4026\n",
       "19   Strat(300,3)[SD][FOPD][OR][H-]  4020\n",
       "20   Strat(900,3)[SD][FOPD][OR][H-]  4018\n",
       "21   Strat(550,3)[SD][FOPD][OR][H-]  4016\n",
       "22   Strat(300,3)[-D][FOPD][OR][HR]  4014\n",
       "23   Strat(250,3)[SD][FOPD][OR][H-]  4004\n",
       "24   Strat(500,3)[-D][FOPD][OR][H-]  4002\n",
       "25   Strat(950,3)[SD][FOPD][OR][HR]  3999\n",
       "26   Strat(350,3)[SD][FOPD][OR][HR]  3999\n",
       "27   Strat(950,3)[SD][FOPD][OR][H-]  3994\n",
       "28   Strat(700,3)[SD][FOPD][OR][H-]  3994\n",
       "29   Strat(300,2)[SD][FOPD][OR][H-]  3992\n",
       "30   Strat(450,3)[SD][FOPD][OR][H-]  3991\n",
       "31   Strat(450,3)[SD][FOPD][OR][HR]  3988\n",
       "32   Strat(400,2)[SD][F-PD][OR][HR]  3986\n",
       "33   Strat(750,3)[SD][FOPD][OR][H-]  3986\n",
       "34   Strat(200,3)[-D][FOPD][OR][H-]  3985\n",
       "35  Strat(350,4)[SD][FOPD][AND][HR]  3976\n",
       "36   Strat(300,1)[SD][FOPD][OR][HR]  3975\n",
       "37  Strat(350,4)[SD][F-PD][AND][H-]  3972\n",
       "38   Strat(500,3)[-D][FOPD][OR][HR]  3969\n",
       "39  Strat(350,4)[SD][F-PD][AND][--]  3968\n",
       "40   Strat(550,3)[SD][FOPD][OR][HR]  3967\n",
       "41   Strat(500,3)[SD][FOPD][OR][H-]  3965\n",
       "42   Strat(650,3)[SD][FOPD][OR][H-]  3964\n",
       "43   Strat(600,3)[SD][FOPD][OR][H-]  3964\n",
       "44  Strat(300,4)[SD][FOPD][AND][HR]  3963\n",
       "45   Strat(250,2)[SD][FOPD][OR][HR]  3963\n",
       "46   Strat(450,3)[-D][FOPD][OR][-R]  3962\n",
       "47   Strat(400,3)[SD][FOPD][OR][HR]  3962\n",
       "48   Strat(500,3)[SD][FOPD][OR][HR]  3961\n",
       "49   Strat(700,3)[-D][FOPD][OR][--]  3956"
      ]
     },
     "execution_count": 7,
     "metadata": {},
     "output_type": "execute_result"
    }
   ],
   "source": [
    "df.head(50)"
   ]
  },
  {
   "cell_type": "code",
   "execution_count": 6,
   "id": "7581ac9d",
   "metadata": {},
   "outputs": [
    {
     "name": "stdout",
     "output_type": "stream",
     "text": [
      "7597\n"
     ]
    }
   ],
   "source": [
    "print(len(df))"
   ]
  },
  {
   "cell_type": "code",
   "execution_count": 8,
   "id": "90e6daf5",
   "metadata": {},
   "outputs": [
    {
     "data": {
      "text/plain": [
       "np.int64(16683936)"
      ]
     },
     "execution_count": 8,
     "metadata": {},
     "output_type": "execute_result"
    }
   ],
   "source": [
    "df[\"wins\"].sum()"
   ]
  },
  {
   "cell_type": "code",
   "execution_count": 1,
   "id": "3d06116d",
   "metadata": {},
   "outputs": [
    {
     "data": {
      "application/vnd.microsoft.datawrangler.viewer.v0+json": {
       "columns": [
        {
         "name": "index",
         "rawType": "int64",
         "type": "integer"
        },
        {
         "name": "strategy",
         "rawType": "object",
         "type": "string"
        },
        {
         "name": "wins",
         "rawType": "int64",
         "type": "integer"
        },
        {
         "name": "score_threshold",
         "rawType": "int64",
         "type": "integer"
        },
        {
         "name": "dice_threshold",
         "rawType": "int64",
         "type": "integer"
        },
        {
         "name": "consider_score",
         "rawType": "bool",
         "type": "boolean"
        },
        {
         "name": "consider_dice",
         "rawType": "bool",
         "type": "boolean"
        },
        {
         "name": "require_both",
         "rawType": "bool",
         "type": "boolean"
        },
        {
         "name": "prefer_score",
         "rawType": "bool",
         "type": "boolean"
        },
        {
         "name": "smart_five",
         "rawType": "bool",
         "type": "boolean"
        },
        {
         "name": "smart_one",
         "rawType": "bool",
         "type": "boolean"
        },
        {
         "name": "auto_hot_dice",
         "rawType": "bool",
         "type": "boolean"
        },
        {
         "name": "run_up_score",
         "rawType": "bool",
         "type": "boolean"
        }
       ],
       "ref": "4ac80f82-9711-4a32-bf00-8eef4698d0f2",
       "rows": [
        [
         "0",
         "Strat(900,3)[SD][FOPD][OR][HR]",
         "4167",
         "900",
         "3",
         "True",
         "True",
         "False",
         "False",
         "True",
         "True",
         "True",
         "True"
        ],
        [
         "1",
         "Strat(300,4)[SD][FOPD][AND][-R]",
         "4135",
         "300",
         "4",
         "True",
         "True",
         "True",
         "False",
         "True",
         "True",
         "False",
         "True"
        ],
        [
         "2",
         "Strat(300,4)[SD][FOPD][AND][H-]",
         "4134",
         "300",
         "4",
         "True",
         "True",
         "True",
         "False",
         "True",
         "True",
         "True",
         "False"
        ],
        [
         "3",
         "Strat(250,4)[SD][FOPD][AND][HR]",
         "4108",
         "250",
         "4",
         "True",
         "True",
         "True",
         "False",
         "True",
         "True",
         "True",
         "True"
        ],
        [
         "4",
         "Strat(850,3)[SD][FOPD][OR][H-]",
         "4107",
         "850",
         "3",
         "True",
         "True",
         "False",
         "False",
         "True",
         "True",
         "True",
         "False"
        ],
        [
         "5",
         "Strat(800,3)[SD][FOPD][OR][HR]",
         "4082",
         "800",
         "3",
         "True",
         "True",
         "False",
         "False",
         "True",
         "True",
         "True",
         "True"
        ],
        [
         "6",
         "Strat(250,4)[SD][FOPD][AND][-R]",
         "4077",
         "250",
         "4",
         "True",
         "True",
         "True",
         "False",
         "True",
         "True",
         "False",
         "True"
        ],
        [
         "7",
         "Strat(800,3)[SD][FOPD][OR][H-]",
         "4070",
         "800",
         "3",
         "True",
         "True",
         "False",
         "False",
         "True",
         "True",
         "True",
         "False"
        ],
        [
         "8",
         "Strat(700,3)[SD][FOPD][OR][HR]",
         "4069",
         "700",
         "3",
         "True",
         "True",
         "False",
         "False",
         "True",
         "True",
         "True",
         "True"
        ],
        [
         "9",
         "Strat(300,4)[SD][FOPD][AND][--]",
         "4066",
         "300",
         "4",
         "True",
         "True",
         "True",
         "False",
         "True",
         "True",
         "False",
         "False"
        ],
        [
         "10",
         "Strat(1000,3)[SD][FOPD][OR][HR]",
         "4050",
         "1000",
         "3",
         "True",
         "True",
         "False",
         "False",
         "True",
         "True",
         "True",
         "True"
        ],
        [
         "11",
         "Strat(650,3)[SD][FOPD][OR][HR]",
         "4043",
         "650",
         "3",
         "True",
         "True",
         "False",
         "False",
         "True",
         "True",
         "True",
         "True"
        ],
        [
         "12",
         "Strat(1000,3)[SD][FOPD][OR][H-]",
         "4041",
         "1000",
         "3",
         "True",
         "True",
         "False",
         "False",
         "True",
         "True",
         "True",
         "False"
        ],
        [
         "13",
         "Strat(300,4)[SD][F-PD][AND][HR]",
         "4041",
         "300",
         "4",
         "True",
         "True",
         "True",
         "False",
         "True",
         "False",
         "True",
         "True"
        ],
        [
         "14",
         "Strat(250,4)[SD][FOPD][AND][H-]",
         "4039",
         "250",
         "4",
         "True",
         "True",
         "True",
         "False",
         "True",
         "True",
         "True",
         "False"
        ],
        [
         "15",
         "Strat(350,4)[SD][F-PD][AND][-R]",
         "4038",
         "350",
         "4",
         "True",
         "True",
         "True",
         "False",
         "True",
         "False",
         "False",
         "True"
        ],
        [
         "16",
         "Strat(250,4)[SD][FOPD][AND][--]",
         "4033",
         "250",
         "4",
         "True",
         "True",
         "True",
         "False",
         "True",
         "True",
         "False",
         "False"
        ],
        [
         "17",
         "Strat(250,2)[SD][FOPD][OR][H-]",
         "4033",
         "250",
         "2",
         "True",
         "True",
         "False",
         "False",
         "True",
         "True",
         "True",
         "False"
        ],
        [
         "18",
         "Strat(750,3)[SD][FOPD][OR][HR]",
         "4026",
         "750",
         "3",
         "True",
         "True",
         "False",
         "False",
         "True",
         "True",
         "True",
         "True"
        ],
        [
         "19",
         "Strat(300,3)[SD][FOPD][OR][H-]",
         "4020",
         "300",
         "3",
         "True",
         "True",
         "False",
         "False",
         "True",
         "True",
         "True",
         "False"
        ],
        [
         "20",
         "Strat(900,3)[SD][FOPD][OR][H-]",
         "4018",
         "900",
         "3",
         "True",
         "True",
         "False",
         "False",
         "True",
         "True",
         "True",
         "False"
        ],
        [
         "21",
         "Strat(550,3)[SD][FOPD][OR][H-]",
         "4016",
         "550",
         "3",
         "True",
         "True",
         "False",
         "False",
         "True",
         "True",
         "True",
         "False"
        ],
        [
         "22",
         "Strat(300,3)[-D][FOPD][OR][HR]",
         "4014",
         "300",
         "3",
         "False",
         "True",
         "False",
         "False",
         "True",
         "True",
         "True",
         "True"
        ],
        [
         "23",
         "Strat(250,3)[SD][FOPD][OR][H-]",
         "4004",
         "250",
         "3",
         "True",
         "True",
         "False",
         "False",
         "True",
         "True",
         "True",
         "False"
        ],
        [
         "24",
         "Strat(500,3)[-D][FOPD][OR][H-]",
         "4002",
         "500",
         "3",
         "False",
         "True",
         "False",
         "False",
         "True",
         "True",
         "True",
         "False"
        ],
        [
         "25",
         "Strat(950,3)[SD][FOPD][OR][HR]",
         "3999",
         "950",
         "3",
         "True",
         "True",
         "False",
         "False",
         "True",
         "True",
         "True",
         "True"
        ],
        [
         "26",
         "Strat(350,3)[SD][FOPD][OR][HR]",
         "3999",
         "350",
         "3",
         "True",
         "True",
         "False",
         "False",
         "True",
         "True",
         "True",
         "True"
        ],
        [
         "27",
         "Strat(950,3)[SD][FOPD][OR][H-]",
         "3994",
         "950",
         "3",
         "True",
         "True",
         "False",
         "False",
         "True",
         "True",
         "True",
         "False"
        ],
        [
         "28",
         "Strat(700,3)[SD][FOPD][OR][H-]",
         "3994",
         "700",
         "3",
         "True",
         "True",
         "False",
         "False",
         "True",
         "True",
         "True",
         "False"
        ],
        [
         "29",
         "Strat(300,2)[SD][FOPD][OR][H-]",
         "3992",
         "300",
         "2",
         "True",
         "True",
         "False",
         "False",
         "True",
         "True",
         "True",
         "False"
        ],
        [
         "30",
         "Strat(450,3)[SD][FOPD][OR][H-]",
         "3991",
         "450",
         "3",
         "True",
         "True",
         "False",
         "False",
         "True",
         "True",
         "True",
         "False"
        ],
        [
         "31",
         "Strat(450,3)[SD][FOPD][OR][HR]",
         "3988",
         "450",
         "3",
         "True",
         "True",
         "False",
         "False",
         "True",
         "True",
         "True",
         "True"
        ],
        [
         "32",
         "Strat(400,2)[SD][F-PD][OR][HR]",
         "3986",
         "400",
         "2",
         "True",
         "True",
         "False",
         "False",
         "True",
         "False",
         "True",
         "True"
        ],
        [
         "33",
         "Strat(750,3)[SD][FOPD][OR][H-]",
         "3986",
         "750",
         "3",
         "True",
         "True",
         "False",
         "False",
         "True",
         "True",
         "True",
         "False"
        ],
        [
         "34",
         "Strat(200,3)[-D][FOPD][OR][H-]",
         "3985",
         "200",
         "3",
         "False",
         "True",
         "False",
         "False",
         "True",
         "True",
         "True",
         "False"
        ],
        [
         "35",
         "Strat(350,4)[SD][FOPD][AND][HR]",
         "3976",
         "350",
         "4",
         "True",
         "True",
         "True",
         "False",
         "True",
         "True",
         "True",
         "True"
        ],
        [
         "36",
         "Strat(300,1)[SD][FOPD][OR][HR]",
         "3975",
         "300",
         "1",
         "True",
         "True",
         "False",
         "False",
         "True",
         "True",
         "True",
         "True"
        ],
        [
         "37",
         "Strat(350,4)[SD][F-PD][AND][H-]",
         "3972",
         "350",
         "4",
         "True",
         "True",
         "True",
         "False",
         "True",
         "False",
         "True",
         "False"
        ],
        [
         "38",
         "Strat(500,3)[-D][FOPD][OR][HR]",
         "3969",
         "500",
         "3",
         "False",
         "True",
         "False",
         "False",
         "True",
         "True",
         "True",
         "True"
        ],
        [
         "39",
         "Strat(350,4)[SD][F-PD][AND][--]",
         "3968",
         "350",
         "4",
         "True",
         "True",
         "True",
         "False",
         "True",
         "False",
         "False",
         "False"
        ],
        [
         "40",
         "Strat(550,3)[SD][FOPD][OR][HR]",
         "3967",
         "550",
         "3",
         "True",
         "True",
         "False",
         "False",
         "True",
         "True",
         "True",
         "True"
        ],
        [
         "41",
         "Strat(500,3)[SD][FOPD][OR][H-]",
         "3965",
         "500",
         "3",
         "True",
         "True",
         "False",
         "False",
         "True",
         "True",
         "True",
         "False"
        ],
        [
         "42",
         "Strat(650,3)[SD][FOPD][OR][H-]",
         "3964",
         "650",
         "3",
         "True",
         "True",
         "False",
         "False",
         "True",
         "True",
         "True",
         "False"
        ],
        [
         "43",
         "Strat(600,3)[SD][FOPD][OR][H-]",
         "3964",
         "600",
         "3",
         "True",
         "True",
         "False",
         "False",
         "True",
         "True",
         "True",
         "False"
        ],
        [
         "44",
         "Strat(300,4)[SD][FOPD][AND][HR]",
         "3963",
         "300",
         "4",
         "True",
         "True",
         "True",
         "False",
         "True",
         "True",
         "True",
         "True"
        ],
        [
         "45",
         "Strat(250,2)[SD][FOPD][OR][HR]",
         "3963",
         "250",
         "2",
         "True",
         "True",
         "False",
         "False",
         "True",
         "True",
         "True",
         "True"
        ],
        [
         "46",
         "Strat(450,3)[-D][FOPD][OR][-R]",
         "3962",
         "450",
         "3",
         "False",
         "True",
         "False",
         "False",
         "True",
         "True",
         "False",
         "True"
        ],
        [
         "47",
         "Strat(400,3)[SD][FOPD][OR][HR]",
         "3962",
         "400",
         "3",
         "True",
         "True",
         "False",
         "False",
         "True",
         "True",
         "True",
         "True"
        ],
        [
         "48",
         "Strat(500,3)[SD][FOPD][OR][HR]",
         "3961",
         "500",
         "3",
         "True",
         "True",
         "False",
         "False",
         "True",
         "True",
         "True",
         "True"
        ],
        [
         "49",
         "Strat(700,3)[-D][FOPD][OR][--]",
         "3956",
         "700",
         "3",
         "False",
         "True",
         "False",
         "False",
         "True",
         "True",
         "False",
         "False"
        ]
       ],
       "shape": {
        "columns": 12,
        "rows": 7597
       }
      },
      "text/html": [
       "<div>\n",
       "<style scoped>\n",
       "    .dataframe tbody tr th:only-of-type {\n",
       "        vertical-align: middle;\n",
       "    }\n",
       "\n",
       "    .dataframe tbody tr th {\n",
       "        vertical-align: top;\n",
       "    }\n",
       "\n",
       "    .dataframe thead th {\n",
       "        text-align: right;\n",
       "    }\n",
       "</style>\n",
       "<table border=\"1\" class=\"dataframe\">\n",
       "  <thead>\n",
       "    <tr style=\"text-align: right;\">\n",
       "      <th></th>\n",
       "      <th>strategy</th>\n",
       "      <th>wins</th>\n",
       "      <th>score_threshold</th>\n",
       "      <th>dice_threshold</th>\n",
       "      <th>consider_score</th>\n",
       "      <th>consider_dice</th>\n",
       "      <th>require_both</th>\n",
       "      <th>prefer_score</th>\n",
       "      <th>smart_five</th>\n",
       "      <th>smart_one</th>\n",
       "      <th>auto_hot_dice</th>\n",
       "      <th>run_up_score</th>\n",
       "    </tr>\n",
       "  </thead>\n",
       "  <tbody>\n",
       "    <tr>\n",
       "      <th>0</th>\n",
       "      <td>Strat(900,3)[SD][FOPD][OR][HR]</td>\n",
       "      <td>4167</td>\n",
       "      <td>900</td>\n",
       "      <td>3</td>\n",
       "      <td>True</td>\n",
       "      <td>True</td>\n",
       "      <td>False</td>\n",
       "      <td>False</td>\n",
       "      <td>True</td>\n",
       "      <td>True</td>\n",
       "      <td>True</td>\n",
       "      <td>True</td>\n",
       "    </tr>\n",
       "    <tr>\n",
       "      <th>1</th>\n",
       "      <td>Strat(300,4)[SD][FOPD][AND][-R]</td>\n",
       "      <td>4135</td>\n",
       "      <td>300</td>\n",
       "      <td>4</td>\n",
       "      <td>True</td>\n",
       "      <td>True</td>\n",
       "      <td>True</td>\n",
       "      <td>False</td>\n",
       "      <td>True</td>\n",
       "      <td>True</td>\n",
       "      <td>False</td>\n",
       "      <td>True</td>\n",
       "    </tr>\n",
       "    <tr>\n",
       "      <th>2</th>\n",
       "      <td>Strat(300,4)[SD][FOPD][AND][H-]</td>\n",
       "      <td>4134</td>\n",
       "      <td>300</td>\n",
       "      <td>4</td>\n",
       "      <td>True</td>\n",
       "      <td>True</td>\n",
       "      <td>True</td>\n",
       "      <td>False</td>\n",
       "      <td>True</td>\n",
       "      <td>True</td>\n",
       "      <td>True</td>\n",
       "      <td>False</td>\n",
       "    </tr>\n",
       "    <tr>\n",
       "      <th>3</th>\n",
       "      <td>Strat(250,4)[SD][FOPD][AND][HR]</td>\n",
       "      <td>4108</td>\n",
       "      <td>250</td>\n",
       "      <td>4</td>\n",
       "      <td>True</td>\n",
       "      <td>True</td>\n",
       "      <td>True</td>\n",
       "      <td>False</td>\n",
       "      <td>True</td>\n",
       "      <td>True</td>\n",
       "      <td>True</td>\n",
       "      <td>True</td>\n",
       "    </tr>\n",
       "    <tr>\n",
       "      <th>4</th>\n",
       "      <td>Strat(850,3)[SD][FOPD][OR][H-]</td>\n",
       "      <td>4107</td>\n",
       "      <td>850</td>\n",
       "      <td>3</td>\n",
       "      <td>True</td>\n",
       "      <td>True</td>\n",
       "      <td>False</td>\n",
       "      <td>False</td>\n",
       "      <td>True</td>\n",
       "      <td>True</td>\n",
       "      <td>True</td>\n",
       "      <td>False</td>\n",
       "    </tr>\n",
       "    <tr>\n",
       "      <th>...</th>\n",
       "      <td>...</td>\n",
       "      <td>...</td>\n",
       "      <td>...</td>\n",
       "      <td>...</td>\n",
       "      <td>...</td>\n",
       "      <td>...</td>\n",
       "      <td>...</td>\n",
       "      <td>...</td>\n",
       "      <td>...</td>\n",
       "      <td>...</td>\n",
       "      <td>...</td>\n",
       "      <td>...</td>\n",
       "    </tr>\n",
       "    <tr>\n",
       "      <th>7592</th>\n",
       "      <td>Strat(700,0)[-D][--PD][OR][H-]</td>\n",
       "      <td>1</td>\n",
       "      <td>700</td>\n",
       "      <td>0</td>\n",
       "      <td>False</td>\n",
       "      <td>True</td>\n",
       "      <td>False</td>\n",
       "      <td>False</td>\n",
       "      <td>False</td>\n",
       "      <td>False</td>\n",
       "      <td>True</td>\n",
       "      <td>False</td>\n",
       "    </tr>\n",
       "    <tr>\n",
       "      <th>7593</th>\n",
       "      <td>Strat(550,0)[SD][F-PD][AND][-R]</td>\n",
       "      <td>1</td>\n",
       "      <td>550</td>\n",
       "      <td>0</td>\n",
       "      <td>True</td>\n",
       "      <td>True</td>\n",
       "      <td>True</td>\n",
       "      <td>False</td>\n",
       "      <td>True</td>\n",
       "      <td>False</td>\n",
       "      <td>False</td>\n",
       "      <td>True</td>\n",
       "    </tr>\n",
       "    <tr>\n",
       "      <th>7594</th>\n",
       "      <td>Strat(800,0)[SD][F-PD][AND][-R]</td>\n",
       "      <td>1</td>\n",
       "      <td>800</td>\n",
       "      <td>0</td>\n",
       "      <td>True</td>\n",
       "      <td>True</td>\n",
       "      <td>True</td>\n",
       "      <td>False</td>\n",
       "      <td>True</td>\n",
       "      <td>False</td>\n",
       "      <td>False</td>\n",
       "      <td>True</td>\n",
       "    </tr>\n",
       "    <tr>\n",
       "      <th>7595</th>\n",
       "      <td>Strat(850,0)[SD][FOPD][AND][H-]</td>\n",
       "      <td>1</td>\n",
       "      <td>850</td>\n",
       "      <td>0</td>\n",
       "      <td>True</td>\n",
       "      <td>True</td>\n",
       "      <td>True</td>\n",
       "      <td>False</td>\n",
       "      <td>True</td>\n",
       "      <td>True</td>\n",
       "      <td>True</td>\n",
       "      <td>False</td>\n",
       "    </tr>\n",
       "    <tr>\n",
       "      <th>7596</th>\n",
       "      <td>Strat(900,0)[SD][F-PS][AND][-R]</td>\n",
       "      <td>1</td>\n",
       "      <td>900</td>\n",
       "      <td>0</td>\n",
       "      <td>True</td>\n",
       "      <td>True</td>\n",
       "      <td>True</td>\n",
       "      <td>True</td>\n",
       "      <td>True</td>\n",
       "      <td>False</td>\n",
       "      <td>False</td>\n",
       "      <td>True</td>\n",
       "    </tr>\n",
       "  </tbody>\n",
       "</table>\n",
       "<p>7597 rows × 12 columns</p>\n",
       "</div>"
      ],
      "text/plain": [
       "                             strategy  wins  score_threshold  dice_threshold  \\\n",
       "0      Strat(900,3)[SD][FOPD][OR][HR]  4167              900               3   \n",
       "1     Strat(300,4)[SD][FOPD][AND][-R]  4135              300               4   \n",
       "2     Strat(300,4)[SD][FOPD][AND][H-]  4134              300               4   \n",
       "3     Strat(250,4)[SD][FOPD][AND][HR]  4108              250               4   \n",
       "4      Strat(850,3)[SD][FOPD][OR][H-]  4107              850               3   \n",
       "...                               ...   ...              ...             ...   \n",
       "7592   Strat(700,0)[-D][--PD][OR][H-]     1              700               0   \n",
       "7593  Strat(550,0)[SD][F-PD][AND][-R]     1              550               0   \n",
       "7594  Strat(800,0)[SD][F-PD][AND][-R]     1              800               0   \n",
       "7595  Strat(850,0)[SD][FOPD][AND][H-]     1              850               0   \n",
       "7596  Strat(900,0)[SD][F-PS][AND][-R]     1              900               0   \n",
       "\n",
       "      consider_score  consider_dice  require_both  prefer_score  smart_five  \\\n",
       "0               True           True         False         False        True   \n",
       "1               True           True          True         False        True   \n",
       "2               True           True          True         False        True   \n",
       "3               True           True          True         False        True   \n",
       "4               True           True         False         False        True   \n",
       "...              ...            ...           ...           ...         ...   \n",
       "7592           False           True         False         False       False   \n",
       "7593            True           True          True         False        True   \n",
       "7594            True           True          True         False        True   \n",
       "7595            True           True          True         False        True   \n",
       "7596            True           True          True          True        True   \n",
       "\n",
       "      smart_one  auto_hot_dice  run_up_score  \n",
       "0          True           True          True  \n",
       "1          True          False          True  \n",
       "2          True           True         False  \n",
       "3          True           True          True  \n",
       "4          True           True         False  \n",
       "...         ...            ...           ...  \n",
       "7592      False           True         False  \n",
       "7593      False          False          True  \n",
       "7594      False          False          True  \n",
       "7595       True           True         False  \n",
       "7596      False          False          True  \n",
       "\n",
       "[7597 rows x 12 columns]"
      ]
     },
     "execution_count": 1,
     "metadata": {},
     "output_type": "execute_result"
    }
   ],
   "source": [
    "from pathlib import Path\n",
    "import pandas as pd\n",
    "\n",
    "from farkle.strategies import load_farkle_results\n",
    "\n",
    "\n",
    "ckpt_path = Path(\"../checkpoint.pkl\")   \n",
    "df = load_farkle_results(ckpt_path)\n",
    "df\n"
   ]
  },
  {
   "cell_type": "code",
   "execution_count": null,
   "id": "d3b31bd0",
   "metadata": {},
   "outputs": [
    {
     "ename": "AttributeError",
     "evalue": "'Counter' object has no attribute 'dtypes'",
     "output_type": "error",
     "traceback": [
      "\u001b[31m---------------------------------------------------------------------------\u001b[39m",
      "\u001b[31mAttributeError\u001b[39m                            Traceback (most recent call last)",
      "\u001b[36mCell\u001b[39m\u001b[36m \u001b[39m\u001b[32mIn[14]\u001b[39m\u001b[32m, line 1\u001b[39m\n\u001b[32m----> \u001b[39m\u001b[32m1\u001b[39m \u001b[43mdf\u001b[49m\u001b[43m.\u001b[49m\u001b[43mdtypes\u001b[49m\n",
      "\u001b[31mAttributeError\u001b[39m: 'Counter' object has no attribute 'dtypes'"
     ]
    }
   ],
   "source": [
    "print(type(df))"
   ]
  },
  {
   "cell_type": "code",
   "execution_count": 15,
   "id": "179bbab5",
   "metadata": {},
   "outputs": [],
   "source": [
    "df = pd.DataFrame(df.items(), columns=['strategy', 'wins']).sort_values(by=\"wins\", ascending=False, ignore_index=True)"
   ]
  },
  {
   "cell_type": "code",
   "execution_count": 16,
   "id": "9a465a2c",
   "metadata": {},
   "outputs": [
    {
     "data": {
      "application/vnd.microsoft.datawrangler.viewer.v0+json": {
       "columns": [
        {
         "name": "index",
         "rawType": "int64",
         "type": "integer"
        },
        {
         "name": "strategy",
         "rawType": "object",
         "type": "string"
        },
        {
         "name": "wins",
         "rawType": "int64",
         "type": "integer"
        }
       ],
       "ref": "99822ff1-6971-488b-abd6-92e1fad2a313",
       "rows": [
        [
         "0",
         "Strat(900,3)[SD][FOPD][OR][HR]",
         "4167"
        ],
        [
         "1",
         "Strat(300,4)[SD][FOPD][AND][-R]",
         "4135"
        ],
        [
         "2",
         "Strat(300,4)[SD][FOPD][AND][H-]",
         "4134"
        ],
        [
         "3",
         "Strat(250,4)[SD][FOPD][AND][HR]",
         "4108"
        ],
        [
         "4",
         "Strat(850,3)[SD][FOPD][OR][H-]",
         "4107"
        ],
        [
         "5",
         "Strat(800,3)[SD][FOPD][OR][HR]",
         "4082"
        ],
        [
         "6",
         "Strat(250,4)[SD][FOPD][AND][-R]",
         "4077"
        ],
        [
         "7",
         "Strat(800,3)[SD][FOPD][OR][H-]",
         "4070"
        ],
        [
         "8",
         "Strat(700,3)[SD][FOPD][OR][HR]",
         "4069"
        ],
        [
         "9",
         "Strat(300,4)[SD][FOPD][AND][--]",
         "4066"
        ],
        [
         "10",
         "Strat(1000,3)[SD][FOPD][OR][HR]",
         "4050"
        ],
        [
         "11",
         "Strat(650,3)[SD][FOPD][OR][HR]",
         "4043"
        ],
        [
         "12",
         "Strat(1000,3)[SD][FOPD][OR][H-]",
         "4041"
        ],
        [
         "13",
         "Strat(300,4)[SD][F-PD][AND][HR]",
         "4041"
        ],
        [
         "14",
         "Strat(250,4)[SD][FOPD][AND][H-]",
         "4039"
        ],
        [
         "15",
         "Strat(350,4)[SD][F-PD][AND][-R]",
         "4038"
        ],
        [
         "16",
         "Strat(250,4)[SD][FOPD][AND][--]",
         "4033"
        ],
        [
         "17",
         "Strat(250,2)[SD][FOPD][OR][H-]",
         "4033"
        ],
        [
         "18",
         "Strat(750,3)[SD][FOPD][OR][HR]",
         "4026"
        ],
        [
         "19",
         "Strat(300,3)[SD][FOPD][OR][H-]",
         "4020"
        ],
        [
         "20",
         "Strat(900,3)[SD][FOPD][OR][H-]",
         "4018"
        ],
        [
         "21",
         "Strat(550,3)[SD][FOPD][OR][H-]",
         "4016"
        ],
        [
         "22",
         "Strat(300,3)[-D][FOPD][OR][HR]",
         "4014"
        ],
        [
         "23",
         "Strat(250,3)[SD][FOPD][OR][H-]",
         "4004"
        ],
        [
         "24",
         "Strat(500,3)[-D][FOPD][OR][H-]",
         "4002"
        ],
        [
         "25",
         "Strat(950,3)[SD][FOPD][OR][HR]",
         "3999"
        ],
        [
         "26",
         "Strat(350,3)[SD][FOPD][OR][HR]",
         "3999"
        ],
        [
         "27",
         "Strat(950,3)[SD][FOPD][OR][H-]",
         "3994"
        ],
        [
         "28",
         "Strat(700,3)[SD][FOPD][OR][H-]",
         "3994"
        ],
        [
         "29",
         "Strat(300,2)[SD][FOPD][OR][H-]",
         "3992"
        ],
        [
         "30",
         "Strat(450,3)[SD][FOPD][OR][H-]",
         "3991"
        ],
        [
         "31",
         "Strat(450,3)[SD][FOPD][OR][HR]",
         "3988"
        ],
        [
         "32",
         "Strat(400,2)[SD][F-PD][OR][HR]",
         "3986"
        ],
        [
         "33",
         "Strat(750,3)[SD][FOPD][OR][H-]",
         "3986"
        ],
        [
         "34",
         "Strat(200,3)[-D][FOPD][OR][H-]",
         "3985"
        ],
        [
         "35",
         "Strat(350,4)[SD][FOPD][AND][HR]",
         "3976"
        ],
        [
         "36",
         "Strat(300,1)[SD][FOPD][OR][HR]",
         "3975"
        ],
        [
         "37",
         "Strat(350,4)[SD][F-PD][AND][H-]",
         "3972"
        ],
        [
         "38",
         "Strat(500,3)[-D][FOPD][OR][HR]",
         "3969"
        ],
        [
         "39",
         "Strat(350,4)[SD][F-PD][AND][--]",
         "3968"
        ],
        [
         "40",
         "Strat(550,3)[SD][FOPD][OR][HR]",
         "3967"
        ],
        [
         "41",
         "Strat(500,3)[SD][FOPD][OR][H-]",
         "3965"
        ],
        [
         "42",
         "Strat(650,3)[SD][FOPD][OR][H-]",
         "3964"
        ],
        [
         "43",
         "Strat(600,3)[SD][FOPD][OR][H-]",
         "3964"
        ],
        [
         "44",
         "Strat(300,4)[SD][FOPD][AND][HR]",
         "3963"
        ],
        [
         "45",
         "Strat(250,2)[SD][FOPD][OR][HR]",
         "3963"
        ],
        [
         "46",
         "Strat(450,3)[-D][FOPD][OR][-R]",
         "3962"
        ],
        [
         "47",
         "Strat(400,3)[SD][FOPD][OR][HR]",
         "3962"
        ],
        [
         "48",
         "Strat(500,3)[SD][FOPD][OR][HR]",
         "3961"
        ],
        [
         "49",
         "Strat(700,3)[-D][FOPD][OR][--]",
         "3956"
        ]
       ],
       "shape": {
        "columns": 2,
        "rows": 7597
       }
      },
      "text/html": [
       "<div>\n",
       "<style scoped>\n",
       "    .dataframe tbody tr th:only-of-type {\n",
       "        vertical-align: middle;\n",
       "    }\n",
       "\n",
       "    .dataframe tbody tr th {\n",
       "        vertical-align: top;\n",
       "    }\n",
       "\n",
       "    .dataframe thead th {\n",
       "        text-align: right;\n",
       "    }\n",
       "</style>\n",
       "<table border=\"1\" class=\"dataframe\">\n",
       "  <thead>\n",
       "    <tr style=\"text-align: right;\">\n",
       "      <th></th>\n",
       "      <th>strategy</th>\n",
       "      <th>wins</th>\n",
       "    </tr>\n",
       "  </thead>\n",
       "  <tbody>\n",
       "    <tr>\n",
       "      <th>0</th>\n",
       "      <td>Strat(900,3)[SD][FOPD][OR][HR]</td>\n",
       "      <td>4167</td>\n",
       "    </tr>\n",
       "    <tr>\n",
       "      <th>1</th>\n",
       "      <td>Strat(300,4)[SD][FOPD][AND][-R]</td>\n",
       "      <td>4135</td>\n",
       "    </tr>\n",
       "    <tr>\n",
       "      <th>2</th>\n",
       "      <td>Strat(300,4)[SD][FOPD][AND][H-]</td>\n",
       "      <td>4134</td>\n",
       "    </tr>\n",
       "    <tr>\n",
       "      <th>3</th>\n",
       "      <td>Strat(250,4)[SD][FOPD][AND][HR]</td>\n",
       "      <td>4108</td>\n",
       "    </tr>\n",
       "    <tr>\n",
       "      <th>4</th>\n",
       "      <td>Strat(850,3)[SD][FOPD][OR][H-]</td>\n",
       "      <td>4107</td>\n",
       "    </tr>\n",
       "    <tr>\n",
       "      <th>...</th>\n",
       "      <td>...</td>\n",
       "      <td>...</td>\n",
       "    </tr>\n",
       "    <tr>\n",
       "      <th>7592</th>\n",
       "      <td>Strat(700,0)[-D][--PD][OR][H-]</td>\n",
       "      <td>1</td>\n",
       "    </tr>\n",
       "    <tr>\n",
       "      <th>7593</th>\n",
       "      <td>Strat(550,0)[SD][F-PD][AND][-R]</td>\n",
       "      <td>1</td>\n",
       "    </tr>\n",
       "    <tr>\n",
       "      <th>7594</th>\n",
       "      <td>Strat(800,0)[SD][F-PD][AND][-R]</td>\n",
       "      <td>1</td>\n",
       "    </tr>\n",
       "    <tr>\n",
       "      <th>7595</th>\n",
       "      <td>Strat(850,0)[SD][FOPD][AND][H-]</td>\n",
       "      <td>1</td>\n",
       "    </tr>\n",
       "    <tr>\n",
       "      <th>7596</th>\n",
       "      <td>Strat(900,0)[SD][F-PS][AND][-R]</td>\n",
       "      <td>1</td>\n",
       "    </tr>\n",
       "  </tbody>\n",
       "</table>\n",
       "<p>7597 rows × 2 columns</p>\n",
       "</div>"
      ],
      "text/plain": [
       "                             strategy  wins\n",
       "0      Strat(900,3)[SD][FOPD][OR][HR]  4167\n",
       "1     Strat(300,4)[SD][FOPD][AND][-R]  4135\n",
       "2     Strat(300,4)[SD][FOPD][AND][H-]  4134\n",
       "3     Strat(250,4)[SD][FOPD][AND][HR]  4108\n",
       "4      Strat(850,3)[SD][FOPD][OR][H-]  4107\n",
       "...                               ...   ...\n",
       "7592   Strat(700,0)[-D][--PD][OR][H-]     1\n",
       "7593  Strat(550,0)[SD][F-PD][AND][-R]     1\n",
       "7594  Strat(800,0)[SD][F-PD][AND][-R]     1\n",
       "7595  Strat(850,0)[SD][FOPD][AND][H-]     1\n",
       "7596  Strat(900,0)[SD][F-PS][AND][-R]     1\n",
       "\n",
       "[7597 rows x 2 columns]"
      ]
     },
     "execution_count": 16,
     "metadata": {},
     "output_type": "execute_result"
    }
   ],
   "source": [
    "df"
   ]
  },
  {
   "cell_type": "code",
   "execution_count": 17,
   "id": "22715697",
   "metadata": {},
   "outputs": [
    {
     "data": {
      "application/vnd.microsoft.datawrangler.viewer.v0+json": {
       "columns": [
        {
         "name": "index",
         "rawType": "object",
         "type": "string"
        },
        {
         "name": "0",
         "rawType": "object",
         "type": "unknown"
        }
       ],
       "ref": "64cfddc3-621f-4e6c-bde0-391648911f68",
       "rows": [
        [
         "strategy",
         "object"
        ],
        [
         "wins",
         "int64"
        ]
       ],
       "shape": {
        "columns": 1,
        "rows": 2
       }
      },
      "text/plain": [
       "strategy    object\n",
       "wins         int64\n",
       "dtype: object"
      ]
     },
     "execution_count": 17,
     "metadata": {},
     "output_type": "execute_result"
    }
   ],
   "source": [
    "df.dtypes"
   ]
  },
  {
   "cell_type": "code",
   "execution_count": null,
   "id": "15a9b93c",
   "metadata": {},
   "outputs": [],
   "source": [
    "# df[\"expanded_strategy\"] = df[\"strategy\"].apply(lambda x: parse_strategy_for_df(x))"
   ]
  },
  {
   "cell_type": "code",
   "execution_count": 12,
   "id": "e2e0ed5a",
   "metadata": {},
   "outputs": [
    {
     "data": {
      "application/vnd.microsoft.datawrangler.viewer.v0+json": {
       "columns": [
        {
         "name": "index",
         "rawType": "int64",
         "type": "integer"
        },
        {
         "name": "strategy",
         "rawType": "object",
         "type": "string"
        },
        {
         "name": "wins",
         "rawType": "int64",
         "type": "integer"
        },
        {
         "name": "expanded_strategy",
         "rawType": "object",
         "type": "unknown"
        }
       ],
       "ref": "dece35b9-f7f0-49af-8e28-d5e60024c6d7",
       "rows": [
        [
         "0",
         "Strat(400,4)[SD][F-PS][OR][H-]",
         "3225",
         "Strat(400,4)[SD][F-PS][OR][H-]"
        ],
        [
         "1",
         "Strat(600,4)[-D][FOPD][OR][HR]",
         "3551",
         "Strat(600,4)[-D][FOPD][OR][HR]"
        ],
        [
         "2",
         "Strat(300,2)[SD][F-PD][OR][HR]",
         "3934",
         "Strat(300,2)[SD][F-PD][OR][HR]"
        ],
        [
         "3",
         "Strat(550,3)[-D][--PD][OR][HR]",
         "3180",
         "Strat(550,3)[-D][--PD][OR][HR]"
        ],
        [
         "4",
         "Strat(450,4)[S-][--PS][OR][--]",
         "1421",
         "Strat(450,4)[S-][--PS][OR][--]"
        ],
        [
         "5",
         "Strat(700,2)[S-][F-PS][OR][H-]",
         "2600",
         "Strat(700,2)[S-][F-PS][OR][H-]"
        ],
        [
         "6",
         "Strat(300,1)[--][F-PD][OR][H-]",
         "1663",
         "Strat(300,1)[--][F-PD][OR][H-]"
        ],
        [
         "7",
         "Strat(250,4)[SD][--PD][OR][HR]",
         "2478",
         "Strat(250,4)[SD][--PD][OR][HR]"
        ],
        [
         "8",
         "Strat(300,0)[S-][--PS][OR][-R]",
         "2197",
         "Strat(300,0)[S-][--PS][OR][-R]"
        ],
        [
         "9",
         "Strat(400,4)[SD][FOPD][AND][--]",
         "3817",
         "Strat(400,4)[SD][FOPD][AND][--]"
        ],
        [
         "10",
         "Strat(500,1)[-D][F-PD][OR][--]",
         "946",
         "Strat(500,1)[-D][F-PD][OR][--]"
        ],
        [
         "11",
         "Strat(900,3)[SD][FOPS][AND][HR]",
         "1908",
         "Strat(900,3)[SD][FOPS][AND][HR]"
        ],
        [
         "12",
         "Strat(750,3)[-D][--PD][OR][H-]",
         "3098",
         "Strat(750,3)[-D][--PD][OR][H-]"
        ],
        [
         "13",
         "Strat(300,3)[SD][--PS][OR][H-]",
         "3124",
         "Strat(300,3)[SD][--PS][OR][H-]"
        ],
        [
         "14",
         "Strat(800,4)[--][FOPS][OR][HR]",
         "2109",
         "Strat(800,4)[--][FOPS][OR][HR]"
        ],
        [
         "15",
         "Strat(600,2)[-D][--PD][OR][H-]",
         "2968",
         "Strat(600,2)[-D][--PD][OR][H-]"
        ],
        [
         "16",
         "Strat(800,3)[-D][F-PD][OR][H-]",
         "3801",
         "Strat(800,3)[-D][F-PD][OR][H-]"
        ],
        [
         "17",
         "Strat(200,0)[SD][F-PS][OR][--]",
         "2254",
         "Strat(200,0)[SD][F-PS][OR][--]"
        ],
        [
         "18",
         "Strat(600,4)[S-][FOPS][OR][--]",
         "1844",
         "Strat(600,4)[S-][FOPS][OR][--]"
        ],
        [
         "19",
         "Strat(950,0)[SD][FOPS][OR][HR]",
         "1952",
         "Strat(950,0)[SD][FOPS][OR][HR]"
        ],
        [
         "20",
         "Strat(400,1)[SD][FOPD][OR][HR]",
         "3718",
         "Strat(400,1)[SD][FOPD][OR][HR]"
        ],
        [
         "21",
         "Strat(900,3)[--][--PS][OR][HR]",
         "2135",
         "Strat(900,3)[--][--PS][OR][HR]"
        ],
        [
         "22",
         "Strat(1000,4)[SD][--PS][OR][-R]",
         "1892",
         "Strat(1000,4)[SD][--PS][OR][-R]"
        ],
        [
         "23",
         "Strat(700,1)[SD][--PD][OR][--]",
         "2201",
         "Strat(700,1)[SD][--PD][OR][--]"
        ],
        [
         "24",
         "Strat(350,4)[-D][F-PD][OR][HR]",
         "3361",
         "Strat(350,4)[-D][F-PD][OR][HR]"
        ],
        [
         "25",
         "Strat(500,1)[-D][--PD][OR][--]",
         "1474",
         "Strat(500,1)[-D][--PD][OR][--]"
        ],
        [
         "26",
         "Strat(950,3)[SD][--PS][AND][-R]",
         "1902",
         "Strat(950,3)[SD][--PS][AND][-R]"
        ],
        [
         "27",
         "Strat(850,4)[SD][FOPS][AND][--]",
         "2201",
         "Strat(850,4)[SD][FOPS][AND][--]"
        ],
        [
         "28",
         "Strat(550,3)[SD][F-PD][AND][--]",
         "3042",
         "Strat(550,3)[SD][F-PD][AND][--]"
        ],
        [
         "29",
         "Strat(200,4)[SD][F-PD][AND][-R]",
         "3464",
         "Strat(200,4)[SD][F-PD][AND][-R]"
        ],
        [
         "30",
         "Strat(750,0)[--][--PD][OR][-R]",
         "1305",
         "Strat(750,0)[--][--PD][OR][-R]"
        ],
        [
         "31",
         "Strat(800,1)[SD][F-PD][AND][HR]",
         "490",
         "Strat(800,1)[SD][F-PD][AND][HR]"
        ],
        [
         "32",
         "Strat(850,2)[S-][F-PS][OR][-R]",
         "1233",
         "Strat(850,2)[S-][F-PS][OR][-R]"
        ],
        [
         "33",
         "Strat(600,0)[SD][FOPD][OR][H-]",
         "2969",
         "Strat(600,0)[SD][FOPD][OR][H-]"
        ],
        [
         "34",
         "Strat(900,4)[-D][F-PD][OR][--]",
         "3277",
         "Strat(900,4)[-D][F-PD][OR][--]"
        ],
        [
         "35",
         "Strat(200,3)[SD][FOPD][OR][-R]",
         "2758",
         "Strat(200,3)[SD][FOPD][OR][-R]"
        ],
        [
         "36",
         "Strat(950,1)[SD][F-PS][OR][H-]",
         "2525",
         "Strat(950,1)[SD][F-PS][OR][H-]"
        ],
        [
         "37",
         "Strat(850,4)[-D][F-PD][OR][-R]",
         "3311",
         "Strat(850,4)[-D][F-PD][OR][-R]"
        ],
        [
         "38",
         "Strat(350,2)[-D][FOPD][OR][-R]",
         "2876",
         "Strat(350,2)[-D][FOPD][OR][-R]"
        ],
        [
         "39",
         "Strat(600,1)[S-][--PS][OR][H-]",
         "2818",
         "Strat(600,1)[S-][--PS][OR][H-]"
        ],
        [
         "40",
         "Strat(400,3)[SD][--PS][OR][H-]",
         "3157",
         "Strat(400,3)[SD][--PS][OR][H-]"
        ],
        [
         "41",
         "Strat(800,3)[SD][F-PD][AND][-R]",
         "2450",
         "Strat(800,3)[SD][F-PD][AND][-R]"
        ],
        [
         "42",
         "Strat(1000,0)[--][F-PD][OR][HR]",
         "1734",
         "Strat(1000,0)[--][F-PD][OR][HR]"
        ],
        [
         "43",
         "Strat(250,0)[S-][--PS][OR][-R]",
         "2215",
         "Strat(250,0)[S-][--PS][OR][-R]"
        ],
        [
         "44",
         "Strat(450,4)[-D][FOPD][OR][--]",
         "3623",
         "Strat(450,4)[-D][FOPD][OR][--]"
        ],
        [
         "45",
         "Strat(450,2)[-D][F-PD][OR][HR]",
         "3170",
         "Strat(450,2)[-D][F-PD][OR][HR]"
        ],
        [
         "46",
         "Strat(700,4)[--][--PS][OR][H-]",
         "2200",
         "Strat(700,4)[--][--PS][OR][H-]"
        ],
        [
         "47",
         "Strat(450,3)[-D][F-PD][OR][HR]",
         "3711",
         "Strat(450,3)[-D][F-PD][OR][HR]"
        ],
        [
         "48",
         "Strat(400,3)[SD][F-PD][AND][--]",
         "3679",
         "Strat(400,3)[SD][F-PD][AND][--]"
        ],
        [
         "49",
         "Strat(550,0)[--][F-PD][OR][--]",
         "1014",
         "Strat(550,0)[--][F-PD][OR][--]"
        ]
       ],
       "shape": {
        "columns": 3,
        "rows": 7597
       }
      },
      "text/html": [
       "<div>\n",
       "<style scoped>\n",
       "    .dataframe tbody tr th:only-of-type {\n",
       "        vertical-align: middle;\n",
       "    }\n",
       "\n",
       "    .dataframe tbody tr th {\n",
       "        vertical-align: top;\n",
       "    }\n",
       "\n",
       "    .dataframe thead th {\n",
       "        text-align: right;\n",
       "    }\n",
       "</style>\n",
       "<table border=\"1\" class=\"dataframe\">\n",
       "  <thead>\n",
       "    <tr style=\"text-align: right;\">\n",
       "      <th></th>\n",
       "      <th>strategy</th>\n",
       "      <th>wins</th>\n",
       "      <th>expanded_strategy</th>\n",
       "    </tr>\n",
       "  </thead>\n",
       "  <tbody>\n",
       "    <tr>\n",
       "      <th>0</th>\n",
       "      <td>Strat(400,4)[SD][F-PS][OR][H-]</td>\n",
       "      <td>3225</td>\n",
       "      <td>Strat(400,4)[SD][F-PS][OR][H-]</td>\n",
       "    </tr>\n",
       "    <tr>\n",
       "      <th>1</th>\n",
       "      <td>Strat(600,4)[-D][FOPD][OR][HR]</td>\n",
       "      <td>3551</td>\n",
       "      <td>Strat(600,4)[-D][FOPD][OR][HR]</td>\n",
       "    </tr>\n",
       "    <tr>\n",
       "      <th>2</th>\n",
       "      <td>Strat(300,2)[SD][F-PD][OR][HR]</td>\n",
       "      <td>3934</td>\n",
       "      <td>Strat(300,2)[SD][F-PD][OR][HR]</td>\n",
       "    </tr>\n",
       "    <tr>\n",
       "      <th>3</th>\n",
       "      <td>Strat(550,3)[-D][--PD][OR][HR]</td>\n",
       "      <td>3180</td>\n",
       "      <td>Strat(550,3)[-D][--PD][OR][HR]</td>\n",
       "    </tr>\n",
       "    <tr>\n",
       "      <th>4</th>\n",
       "      <td>Strat(450,4)[S-][--PS][OR][--]</td>\n",
       "      <td>1421</td>\n",
       "      <td>Strat(450,4)[S-][--PS][OR][--]</td>\n",
       "    </tr>\n",
       "    <tr>\n",
       "      <th>...</th>\n",
       "      <td>...</td>\n",
       "      <td>...</td>\n",
       "      <td>...</td>\n",
       "    </tr>\n",
       "    <tr>\n",
       "      <th>7592</th>\n",
       "      <td>Strat(250,0)[SD][FOPD][AND][H-]</td>\n",
       "      <td>1</td>\n",
       "      <td>Strat(250,0)[SD][FOPD][AND][H-]</td>\n",
       "    </tr>\n",
       "    <tr>\n",
       "      <th>7593</th>\n",
       "      <td>Strat(300,0)[SD][--PS][AND][H-]</td>\n",
       "      <td>1</td>\n",
       "      <td>Strat(300,0)[SD][--PS][AND][H-]</td>\n",
       "    </tr>\n",
       "    <tr>\n",
       "      <th>7594</th>\n",
       "      <td>Strat(300,0)[SD][F-PD][AND][H-]</td>\n",
       "      <td>1</td>\n",
       "      <td>Strat(300,0)[SD][F-PD][AND][H-]</td>\n",
       "    </tr>\n",
       "    <tr>\n",
       "      <th>7595</th>\n",
       "      <td>Strat(250,0)[-D][--PD][OR][--]</td>\n",
       "      <td>1</td>\n",
       "      <td>Strat(250,0)[-D][--PD][OR][--]</td>\n",
       "    </tr>\n",
       "    <tr>\n",
       "      <th>7596</th>\n",
       "      <td>Strat(800,0)[SD][F-PS][AND][HR]</td>\n",
       "      <td>1</td>\n",
       "      <td>Strat(800,0)[SD][F-PS][AND][HR]</td>\n",
       "    </tr>\n",
       "  </tbody>\n",
       "</table>\n",
       "<p>7597 rows × 3 columns</p>\n",
       "</div>"
      ],
      "text/plain": [
       "                             strategy  wins                expanded_strategy\n",
       "0      Strat(400,4)[SD][F-PS][OR][H-]  3225   Strat(400,4)[SD][F-PS][OR][H-]\n",
       "1      Strat(600,4)[-D][FOPD][OR][HR]  3551   Strat(600,4)[-D][FOPD][OR][HR]\n",
       "2      Strat(300,2)[SD][F-PD][OR][HR]  3934   Strat(300,2)[SD][F-PD][OR][HR]\n",
       "3      Strat(550,3)[-D][--PD][OR][HR]  3180   Strat(550,3)[-D][--PD][OR][HR]\n",
       "4      Strat(450,4)[S-][--PS][OR][--]  1421   Strat(450,4)[S-][--PS][OR][--]\n",
       "...                               ...   ...                              ...\n",
       "7592  Strat(250,0)[SD][FOPD][AND][H-]     1  Strat(250,0)[SD][FOPD][AND][H-]\n",
       "7593  Strat(300,0)[SD][--PS][AND][H-]     1  Strat(300,0)[SD][--PS][AND][H-]\n",
       "7594  Strat(300,0)[SD][F-PD][AND][H-]     1  Strat(300,0)[SD][F-PD][AND][H-]\n",
       "7595   Strat(250,0)[-D][--PD][OR][--]     1   Strat(250,0)[-D][--PD][OR][--]\n",
       "7596  Strat(800,0)[SD][F-PS][AND][HR]     1  Strat(800,0)[SD][F-PS][AND][HR]\n",
       "\n",
       "[7597 rows x 3 columns]"
      ]
     },
     "execution_count": 12,
     "metadata": {},
     "output_type": "execute_result"
    }
   ],
   "source": [
    "df"
   ]
  },
  {
   "cell_type": "code",
   "execution_count": null,
   "id": "6a66ca2d",
   "metadata": {},
   "outputs": [],
   "source": []
  }
 ],
 "metadata": {
  "kernelspec": {
   "display_name": ".venv",
   "language": "python",
   "name": "python3"
  },
  "language_info": {
   "codemirror_mode": {
    "name": "ipython",
    "version": 3
   },
   "file_extension": ".py",
   "mimetype": "text/x-python",
   "name": "python",
   "nbconvert_exporter": "python",
   "pygments_lexer": "ipython3",
   "version": "3.12.5"
  }
 },
 "nbformat": 4,
 "nbformat_minor": 5
}
