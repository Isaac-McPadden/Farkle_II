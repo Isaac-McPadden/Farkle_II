{
 "cells": [
  {
   "cell_type": "markdown",
   "metadata": {},
   "source": [
    "# Farkle Analysis Report"
   ]
  },
  {
   "cell_type": "code",
   "execution_count": null,
   "metadata": {},
   "outputs": [],
   "source": [
    "%run ../src/farkle/run_trueskill.py\n",
    "%run ../src/farkle/run_rf.py"
   ]
  },
  {
   "cell_type": "code",
   "execution_count": null,
   "metadata": {},
   "outputs": [],
   "source": [
    "import json\n",
    "import pickle\n",
    "\n",
    "import matplotlib.pyplot as plt\n",
    "import pandas as pd\n",
    "\n",
    "with open('../data/tiers.json') as tj:\n",
    "    tiers = json.load(tj)\n",
    "with open('../data/ratings_pooled.pkl', 'rb') as rpp:\n",
    "    ratings = pickle.load(rpp)\n",
    "with open('../data/rf_importance.json') as rfij:\n",
    "    rf_importance = json.load(rfij)\n",
    "pd.Series(rf_importance).plot.barh()\n",
    "plt.tight_layout()\n",
    "plt.savefig('figs/rf_importance.png')"
   ]
  },
  {
   "cell_type": "code",
   "execution_count": null,
   "metadata": {},
   "outputs": [],
   "source": [
    "print('strategies:', len(ratings))\n",
    "print('top tier size:', list(tiers.values()).count(min(tiers.values())))"
   ]
  }
 ],
 "metadata": {
  "language_info": {
   "name": "python"
  }
 },
 "nbformat": 4,
 "nbformat_minor": 5
}
