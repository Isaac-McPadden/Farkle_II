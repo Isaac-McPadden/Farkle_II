{
 "cells": [
  {
   "cell_type": "markdown",
   "metadata": {},
   "source": ["# Farkle Analysis Report"]
  },
  {
   "cell_type": "code",
   "metadata": {},
   "execution_count": null,
   "source": ["%run ../src/farkle/run_trueskill.py\n", "%run ../src/farkle/run_rf.py"],
   "outputs": []
  },
  {
   "cell_type": "code",
   "metadata": {},
   "execution_count": null,
   "source": [
    "import json, pickle, pandas as pd, matplotlib.pyplot as plt\n",
    "tiers = json.load(open('../data/tiers.json'))\n",
    "ratings = pickle.load(open('../data/ratings_pooled.pkl', 'rb'))\n",
    "imp = json.load(open('../data/rf_importance.json'))\n",
    "pd.Series(imp).plot.barh()\n",
    "plt.tight_layout()\n",
    "plt.savefig('figs/rf_importance.png')"
   ],
   "outputs": []
  },
  {
   "cell_type": "code",
   "metadata": {},
   "execution_count": null,
   "source": [
    "print('strategies:', len(ratings))\n",
    "print('top tier size:', list(tiers.values()).count(min(tiers.values())))"
   ],
   "outputs": []
  }
 ],
 "metadata": {
  "language_info": {
   "name": "python"
  }
 },
 "nbformat": 4,
 "nbformat_minor": 5
}